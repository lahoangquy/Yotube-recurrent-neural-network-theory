{
  "nbformat": 4,
  "nbformat_minor": 0,
  "metadata": {
    "colab": {
      "name": "Introduction to Recurrent Neural Network.ipynb",
      "provenance": []
    },
    "kernelspec": {
      "name": "python3",
      "display_name": "Python 3"
    },
    "language_info": {
      "name": "python"
    }
  },
  "cells": [
    {
      "cell_type": "markdown",
      "source": [
        "# *Recurrent Neural Network* \n",
        "\n",
        "\n",
        "Recurrent Neural Network is a very power deep learning algorithm which is used in predicting time series data, natural language processing and safe driving car, and so on.\n",
        "\n",
        "It has ability to understand language and interact with the world. This sense of understanding the flow of time and how things change is very important in intelligent life. Artificial Intelligence (AI) has that ability.\n",
        "\n",
        "\n",
        "Feedforward and Convolution Neural Network (CNN) will achive a very good result. Howeverm working with continuous data such as predicting stock prices, recognizing handwriting, and so on.. will require a differnt approach. So in stock price prediction and handwriting recognition, the input and output will be no longer fixed size of data and they will be a sequence of arbitrary length.\n",
        "\n",
        "\n",
        "# Recurrent Artificial Neurons\n",
        "\n",
        "For artificial neuron in the feedforward network, the flow of activation is simply from the input to the output. Recurrent Artifical neurons (RANs) have a connection from the output of the activation layer to its input and then the output will be back to the input. A RAN can be unrolled in time, each subsequent state is a function of the previous states. In this ways a RAN can be said to have a memory of the previous states."
      ],
      "metadata": {
        "id": "ont3684K8L_R"
      }
    }
  ]
}